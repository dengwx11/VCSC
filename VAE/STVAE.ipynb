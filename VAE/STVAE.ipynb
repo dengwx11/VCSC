{
 "cells": [
  {
   "cell_type": "code",
   "execution_count": 1,
   "metadata": {},
   "outputs": [],
   "source": [
    "import torch\n",
    "from torch import nn as nn\n",
    "from torch.distributions import Normal, multivariate_normal\n",
    "from torch.utils.data import Dataset, DataLoader\n",
    "import numpy as np\n",
    "from torch.autograd import Variable\n",
    "import collections\n",
    "from typing import Iterable\n",
    "import scipy.sparse as sp_sparse\n",
    "from sklearn.preprocessing import StandardScaler\n",
    "from collections import defaultdict\n",
    "from tqdm import trange\n",
    "from tqdm import tqdm\n",
    "import sys\n",
    "\n",
    "import time\n",
    "from sklearn.manifold import TSNE\n",
    "import matplotlib.pyplot as plt\n",
    "import torch.nn.functional as F\n",
    "import scanpy as sc\n",
    "from Generate_data import *\n",
    "from tensorboardX import SummaryWriter\n",
    "writer = SummaryWriter('log')"
   ]
  },
  {
   "cell_type": "code",
   "execution_count": 2,
   "metadata": {},
   "outputs": [],
   "source": [
    "import warnings\n",
    "warnings.filterwarnings(\"ignore\")"
   ]
  },
  {
   "cell_type": "code",
   "execution_count": 3,
   "metadata": {},
   "outputs": [],
   "source": [
    "device = torch.device(\"cpu\")"
   ]
  },
  {
   "cell_type": "code",
   "execution_count": 4,
   "metadata": {},
   "outputs": [],
   "source": [
    "batch_size = 20\n",
    "epochs = 30\n",
    "X_dim = 20\n",
    "n_sample = 2000"
   ]
  },
  {
   "cell_type": "code",
   "execution_count": 5,
   "metadata": {},
   "outputs": [],
   "source": [
    "class Dataset_Sim(Dataset):\n",
    "    def __init__(self, Expression_Matrix):\n",
    "        \"\"\"\n",
    "        :param Expression_Matrix: a numpy array save the expression matrix\n",
    "        \"\"\"\n",
    "        self.Expression_Matrix = Expression_Matrix\n",
    "\n",
    "    def __len__(self):\n",
    "        return self.Expression_Matrix.shape[0]\n",
    "\n",
    "    def __getitem__(self, item):\n",
    "        return self.Expression_Matrix[item]"
   ]
  },
  {
   "cell_type": "code",
   "execution_count": 6,
   "metadata": {},
   "outputs": [],
   "source": [
    "class VAE(nn.Module):\n",
    "    def __init__(self, input_size=10, h_dim=100, z_dim=2):\n",
    "        super(VAE, self).__init__()\n",
    "        self.encoder = nn.Sequential(\n",
    "            nn.Linear(input_size, h_dim),\n",
    "            nn.LeakyReLU(0.2),\n",
    "            nn.Linear(h_dim, z_dim*2),\n",
    "        )\n",
    "        \n",
    "        self.decoder = nn.Sequential(\n",
    "            nn.Linear(z_dim, h_dim),\n",
    "            nn.ReLU(),\n",
    "            nn.Linear(h_dim, input_size),\n",
    "            nn.Sigmoid()\n",
    "        )\n",
    "    \n",
    "    def reparameterize(self, mu, logvar):\n",
    "        \n",
    "        std = logvar.mul(0.5).exp_()\n",
    "        esp = torch.randn(*mu.size(), device = device)\n",
    "       \n",
    "        z = mu + std * esp\n",
    "#         print('mu = ', mu)\n",
    "#         print('logvar =  ', logvar)\n",
    "#         print('esp = ', esp)\n",
    "#         print('std = ', std)\n",
    "#         print('z = ', z)\n",
    "        return z\n",
    "    def encoder_function(self, x):\n",
    "        h = self.encoder(x)\n",
    "        mu, logvar = torch.chunk(h, 2, dim=1)\n",
    "        return mu, logvar\n",
    "        \n",
    "    def forward(self, x):\n",
    "        mu, logvar = self.encoder_function(x)\n",
    "        z = self.reparameterize(mu, logvar)\n",
    "#         print(z)\n",
    "#         print(self.decoder(z))\n",
    "        return self.decoder(z), mu, logvar"
   ]
  },
  {
   "cell_type": "code",
   "execution_count": 7,
   "metadata": {},
   "outputs": [],
   "source": [
    "def loss_fn(recon_x, x, mu, logvar):\n",
    "    BCE = F.binary_cross_entropy(recon_x, x, size_average=False)\n",
    "\n",
    "    # see Appendix B from VAE paper:\n",
    "    # Kingma and Welling. Auto-Encoding Variational Bayes. ICLR, 2014\n",
    "    # 0.5 * sum(1 + log(sigma^2) - mu^2 - sigma^2)\n",
    "    KLD = -0.5 * torch.sum(1 + logvar - mu**2 -  logvar.exp())\n",
    "    return BCE + KLD"
   ]
  },
  {
   "cell_type": "code",
   "execution_count": 8,
   "metadata": {},
   "outputs": [
    {
     "data": {
      "text/plain": [
       "VAE(\n",
       "  (encoder): Sequential(\n",
       "    (0): Linear(in_features=20, out_features=100, bias=True)\n",
       "    (1): LeakyReLU(negative_slope=0.2)\n",
       "    (2): Linear(in_features=100, out_features=4, bias=True)\n",
       "  )\n",
       "  (decoder): Sequential(\n",
       "    (0): Linear(in_features=2, out_features=100, bias=True)\n",
       "    (1): ReLU()\n",
       "    (2): Linear(in_features=100, out_features=20, bias=True)\n",
       "    (3): Sigmoid()\n",
       "  )\n",
       ")"
      ]
     },
     "execution_count": 8,
     "metadata": {},
     "output_type": "execute_result"
    }
   ],
   "source": [
    "vae = VAE(input_size=X_dim)\n",
    "# if torch.cuda.is_available():\n",
    "#     vae.cuda()\n",
    "vae.to(device)"
   ]
  },
  {
   "cell_type": "code",
   "execution_count": 9,
   "metadata": {},
   "outputs": [],
   "source": [
    "optimizer = torch.optim.Adam(vae.parameters(), lr=1e-3)"
   ]
  },
  {
   "cell_type": "code",
   "execution_count": 10,
   "metadata": {},
   "outputs": [],
   "source": [
    "sim1 = Generate_X(X_dim)\n",
    "sim1.generate([3,5],[n_sample,n_sample], same_mean = False, same_sigma = False)\n"
   ]
  },
  {
   "cell_type": "code",
   "execution_count": 11,
   "metadata": {},
   "outputs": [],
   "source": [
    "sample_size = np.repeat(2*n_sample,1)\n",
    "sample_indices = sim_sample_indices(sample_size)\n",
    "#print(sample_indices)"
   ]
  },
  {
   "cell_type": "code",
   "execution_count": 12,
   "metadata": {},
   "outputs": [],
   "source": [
    "sim1.X = (sim1.X - np.average(sim1.X)) / np.std(sim1.X)"
   ]
  },
  {
   "cell_type": "code",
   "execution_count": 13,
   "metadata": {},
   "outputs": [],
   "source": [
    "data_loader = torch.utils.data.DataLoader(Dataset_Sim(sim1.X), batch_size=batch_size, shuffle=True)"
   ]
  },
  {
   "cell_type": "code",
   "execution_count": 14,
   "metadata": {},
   "outputs": [
    {
     "name": "stdout",
     "output_type": "stream",
     "text": [
      "Epoch[1/30] Loss: -18.914\n",
      "Epoch[2/30] Loss: -163.283\n",
      "Epoch[3/30] Loss: -129.738\n",
      "Epoch[4/30] Loss: -144.809\n",
      "Epoch[5/30] Loss: -180.939\n",
      "Epoch[6/30] Loss: -277.241\n",
      "Epoch[7/30] Loss: -240.709\n",
      "Epoch[8/30] Loss: -241.946\n",
      "Epoch[9/30] Loss: -245.651\n",
      "Epoch[10/30] Loss: -203.836\n",
      "Epoch[11/30] Loss: -252.697\n",
      "Epoch[12/30] Loss: -210.872\n",
      "Epoch[13/30] Loss: -150.391\n",
      "Epoch[14/30] Loss: -169.797\n",
      "Epoch[15/30] Loss: -132.617\n",
      "Epoch[16/30] Loss: -199.336\n",
      "Epoch[17/30] Loss: -196.881\n",
      "Epoch[18/30] Loss: -211.051\n",
      "Epoch[19/30] Loss: -134.282\n",
      "Epoch[20/30] Loss: -233.789\n",
      "Epoch[21/30] Loss: -137.546\n",
      "Epoch[22/30] Loss: -166.159\n",
      "Epoch[23/30] Loss: -195.509\n",
      "Epoch[24/30] Loss: -226.931\n",
      "Epoch[25/30] Loss: -227.359\n",
      "Epoch[26/30] Loss: -179.349\n",
      "Epoch[27/30] Loss: -153.162\n",
      "Epoch[28/30] Loss: -171.738\n",
      "Epoch[29/30] Loss: -149.211\n",
      "Epoch[30/30] Loss: -180.410\n"
     ]
    }
   ],
   "source": [
    "for epoch in range(epochs):\n",
    "    for idx, X in enumerate(data_loader):\n",
    "        X = X.float()\n",
    "        recon_X, mu, logvar = vae(X)\n",
    "        loss = loss_fn(recon_X, X, mu, logvar)\n",
    "\n",
    "        optimizer.zero_grad()\n",
    "        loss.backward()\n",
    "        optimizer.step()\n",
    "        \n",
    "    print(\"Epoch[{}/{}] Loss: {:.3f}\".format(epoch+1, epochs, loss.data/batch_size))"
   ]
  },
  {
   "cell_type": "code",
   "execution_count": null,
   "metadata": {},
   "outputs": [],
   "source": []
  },
  {
   "cell_type": "code",
   "execution_count": 15,
   "metadata": {},
   "outputs": [],
   "source": [
    "trainloader_new = torch.utils.data.DataLoader(Dataset_Sim(sim1.X), batch_size=sim1.X.shape[0], shuffle=False)\n",
    "dataiter = iter(trainloader_new)\n",
    "X = dataiter.next()\n",
    "X = X.float()"
   ]
  },
  {
   "cell_type": "code",
   "execution_count": 16,
   "metadata": {},
   "outputs": [],
   "source": [
    "mean, logvar  = vae.encoder_function(X)\n",
    "z = vae.reparameterize(mean, logvar)\n",
    "x_new = vae.decoder(z)"
   ]
  },
  {
   "cell_type": "code",
   "execution_count": 17,
   "metadata": {},
   "outputs": [
    {
     "data": {
      "text/plain": [
       "<matplotlib.collections.PathCollection at 0x2acb6e76dd30>"
      ]
     },
     "execution_count": 17,
     "metadata": {},
     "output_type": "execute_result"
    },
    {
     "data": {
      "image/png": "[encoded data removed]",
      "text/plain": [
       "<Figure size 432x288 with 1 Axes>"
      ]
     },
     "metadata": {
      "needs_background": "light"
     },
     "output_type": "display_data"
    }
   ],
   "source": [
    "plt.scatter(z[:,0].detach().numpy(), z[:,1].detach().numpy(), c = sim1.ct_label[0:sim1.X.shape[0]], s = [3]*len(z))\n",
    "# plt.savefig('./figures/vae.7242019.3000.png')"
   ]
  },
  {
   "cell_type": "code",
   "execution_count": null,
   "metadata": {},
   "outputs": [],
   "source": []
  },
  {
   "cell_type": "code",
   "execution_count": 18,
   "metadata": {},
   "outputs": [],
   "source": [
    "np.savetxt('./write/simulation', sim1.X, delimiter = ',')"
   ]
  },
  {
   "cell_type": "code",
   "execution_count": 19,
   "metadata": {},
   "outputs": [],
   "source": [
    "adata = sc.read_csv('./write/simulation')"
   ]
  },
  {
   "cell_type": "code",
   "execution_count": 20,
   "metadata": {},
   "outputs": [],
   "source": [
    "adata.obs['cell type'] = sim1.ct_label\n",
    "adata.obs['batch'] = sample_indices"
   ]
  },
  {
   "cell_type": "code",
   "execution_count": null,
   "metadata": {},
   "outputs": [],
   "source": [
    "sc.pp.neighbors(adata, n_neighbors = 15, metric = 'euclidean', random_state = None)\n",
    "sc.tl.umap(adata, min_dist = 0.1)"
   ]
  },
  {
   "cell_type": "code",
   "execution_count": null,
   "metadata": {},
   "outputs": [],
   "source": [
    "sc.pl.umap(adata, color = 'cell type')"
   ]
  },
  {
   "cell_type": "code",
   "execution_count": null,
   "metadata": {},
   "outputs": [],
   "source": [
    "sc.tl.pca(adata)"
   ]
  },
  {
   "cell_type": "code",
   "execution_count": null,
   "metadata": {},
   "outputs": [],
   "source": [
    "sc.pl.pca(adata, color = 'cell type')"
   ]
  },
  {
   "cell_type": "code",
   "execution_count": null,
   "metadata": {},
   "outputs": [],
   "source": [
    "sc.tl.tsne(adata)"
   ]
  },
  {
   "cell_type": "code",
   "execution_count": null,
   "metadata": {},
   "outputs": [],
   "source": [
    "sc.pl.tsne(adata, color = 'cell type')"
   ]
  },
  {
   "cell_type": "code",
   "execution_count": null,
   "metadata": {},
   "outputs": [],
   "source": []
  }
 ],
 "metadata": {
  "kernelspec": {
   "display_name": "Python 3",
   "language": "python",
   "name": "python3"
  },
  "language_info": {
   "codemirror_mode": {
    "name": "ipython",
    "version": 3
   },
   "file_extension": ".py",
   "mimetype": "text/x-python",
   "name": "python",
   "nbconvert_exporter": "python",
   "pygments_lexer": "ipython3",
   "version": "3.6.8"
  }
 },
 "nbformat": 4,
 "nbformat_minor": 4
}
