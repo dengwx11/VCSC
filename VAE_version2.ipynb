{
 "cells": [
  {
   "cell_type": "code",
   "execution_count": 1,
   "metadata": {},
   "outputs": [
    {
     "name": "stderr",
     "output_type": "stream",
     "text": [
      "/ysm-gpfs/pi/zhao/Softwares/Anaconda3/envs/py35/lib/python3.5/site-packages/h5py/__init__.py:36: FutureWarning: Conversion of the second argument of issubdtype from `float` to `np.floating` is deprecated. In future, it will be treated as `np.float64 == np.dtype(float).type`.\n",
      "  from ._conv import register_converters as _register_converters\n"
     ]
    }
   ],
   "source": [
    "import torch\n",
    "from torch import nn as nn\n",
    "from torch.distributions import Normal, multivariate_normal\n",
    "from torch.utils.data import Dataset, DataLoader\n",
    "import numpy as np\n",
    "import collections\n",
    "from typing import Iterable\n",
    "import scipy.sparse as sp_sparse\n",
    "from sklearn.preprocessing import StandardScaler\n",
    "from collections import defaultdict\n",
    "from tqdm import trange\n",
    "import sys\n",
    "import time\n",
    "from sklearn.manifold import TSNE\n",
    "import matplotlib.pyplot as plt\n",
    "import scanpy as sc\n",
    "import torch.nn.functional as F"
   ]
  },
  {
   "cell_type": "code",
   "execution_count": 2,
   "metadata": {},
   "outputs": [],
   "source": [
    "device = torch.device(\"cpu\")"
   ]
  },
  {
   "cell_type": "code",
   "execution_count": 3,
   "metadata": {},
   "outputs": [],
   "source": [
    "class Generate_X:\n",
    "    def __init__(self, p, give_mean = 'zero', give_sigma = 'one'):\n",
    "        \"\"\"\n",
    "        give_sigma: whether the Sigma is diagonal matrix and same across cell types.\n",
    "                    'one': The variances of genes are all ones.\n",
    "                    'linspace': The variances of genes are different but even spaced numbers\n",
    "                    'uniform': The variances of gene are randomly generated from [0,1]\n",
    "        \"\"\"\n",
    "        self.p = p\n",
    "        if give_mean is 'zero':\n",
    "            self.mean = np.array([0]*self.p, dtype =float)\n",
    "        elif give_mean is 'linspace':\n",
    "            self.mean = np.linspace(0,2,num = self.p, dtype=float)\n",
    "        elif give_mean is 'uniform':\n",
    "            self.mean =  np.random.rand(self.p, dtype = float)\n",
    "        else:\n",
    "            print('Wrong argument!')\n",
    "            pass\n",
    "        if give_sigma is 'one':\n",
    "            self.sigma = np.array([1]*self.p)\n",
    "        elif give_sigma is 'linspace':\n",
    "            self.sigma = np.linspace(0,2,num = self.p)\n",
    "        elif give_mean is 'uniform':\n",
    "            self.sigma =  np.random.rand(self.p)\n",
    "        else:\n",
    "            print('Wrong argument!')\n",
    "            pass\n",
    "        \n",
    "\n",
    "    def sym_Sigma(self):\n",
    "        p = self.p\n",
    "        L = np.tril(np.random.random((p,p))*2,0)\n",
    "        sparse = np.random.binomial(1,0.2,(p,p))\n",
    "        diag_indices = np.diag_indices(p)\n",
    "        sparse[diag_indices] = 1\n",
    "        L = L * sparse\n",
    "        S = np.matmul(L,L.transpose())\n",
    "        return S\n",
    "\n",
    "    def generate(self, n_ct, n_vec, same_mean = True, same_sigma = True):\n",
    "        \"\"\"\n",
    "        n_ct: int, the number of cell types\n",
    "        n_vec: the vector of cell size\n",
    "        \"\"\"\n",
    "        assert n_ct == len(n_vec)\n",
    "        ct_label = []\n",
    "        rst = []\n",
    "        covmat = []\n",
    "        meanmat = []\n",
    "        for ct in range(n_ct):  # ct: cell type\n",
    "            if same_sigma:\n",
    "                Sigma = np.diag(self.sigma)\n",
    "            else:\n",
    "                Sigma = self.sym_Sigma()\n",
    "            Sigma = Sigma.astype(float)\n",
    "            if same_mean:\n",
    "                mean = self.mean\n",
    "            else:\n",
    "                mean = (np.random.rand(self.p)-0.5)*10\n",
    "            MVN = np.random.multivariate_normal(mean, Sigma, n_vec[ct])\n",
    "            #print(MVN)\n",
    "            rst.append(MVN)\n",
    "            ct_label.append(np.array([ct]*n_vec[ct]))\n",
    "            covmat.append(Sigma)\n",
    "            meanmat.append(mean)\n",
    "        mat = np.array(rst)\n",
    "        ct_label = np.array(ct_label)\n",
    "        self.X = np.reshape(mat, (-1,self.p))\n",
    "        self.ct_label = np.reshape(ct_label, (-1,))\n",
    "        self.covmat = covmat\n",
    "        self.meanmat = meanmat\n",
    "        # print(self.X, self.ct_label)"
   ]
  },
  {
   "cell_type": "code",
   "execution_count": 4,
   "metadata": {},
   "outputs": [],
   "source": [
    "def sim_sample_indices(sample_size):\n",
    "    sample_indices = [[i]*sample_size[i] for i in range(len(sample_size))]\n",
    "    return np.asarray(sample_indices).flatten()\n"
   ]
  },
  {
   "cell_type": "code",
   "execution_count": 5,
   "metadata": {},
   "outputs": [],
   "source": [
    "class CytofDataset_Sim(Dataset):\n",
    "    \"\"\" Create CyTOF dataset for Pytorch in Simulation\n",
    "        The class contains __len__() and __getitem__() which could be used for dataloader.\n",
    "    \n",
    "    \"\"\"\n",
    "\n",
    "    def __init__(self,X, sample_indices, label_indices):\n",
    "        self.dense = type(X) is np.ndarray\n",
    "        self._X = np.ascontiguousarray(X, dtype=np.float32) if self.dense else X\n",
    "        self.nb_genes = self.X.shape[1]\n",
    "        self.samples, self.n_samples, self.sample_dict = arrange_categories(sample_indices)\n",
    "        self.labels, self.n_labels, self.label_dict = arrange_categories(label_indices)\n",
    "\n",
    "    @property\n",
    "    def X(self):\n",
    "        return self._X\n",
    "\n",
    "    def __len__(self):\n",
    "        return self._X.shape[0]\n",
    "    \n",
    "    def __getitem__(self, idx):\n",
    "        return self.X[idx], self.samples[idx], self.labels[idx]\n",
    "    \n",
    "#    def collate_fn(self, batch):\n",
    "#        indexes = np.array(batch)\n",
    "#        X = self.X[indexes]\n",
    "#        return self.collate_fn_end(X, indexes)\n",
    "#    \n",
    "#    def collate_fn_end(self, X, indexes):\n",
    "\n",
    "#        if self.dense:\n",
    "#            X = torch.from_numpy(X)\n",
    "#        else:\n",
    "#            X = torch.FloatTensor(X.toarray())\n",
    "#        return X,  torch.LongTensor(self.samples[indexes]), \\\n",
    "#                   torch.LongTensor(self.labels[indexes])\n",
    "\n",
    "\n",
    "    def get_sample(self, sample_sublist):\n",
    "        \"\"\"\n",
    "        sample_sublist: list\n",
    "        \"\"\"\n",
    "        loc = np.array([np.where(self.samples == self.sample_dict[sample]) for sample in sample_sublist]).flatten()\n",
    "        X_sub = self._X[loc]\n",
    "        samples_sub = self.samples[loc]\n",
    "        labels_sub = self.labels[loc]\n",
    "        return X_sub, samples_sub, labels_sub\n",
    "    \n",
    "    def get_celltype(self, celltype_sublist):\n",
    "        \"\"\"\n",
    "        celltype_sublist: list\n",
    "        \"\"\"\n",
    "        loc = np.array([np.where(self.labels == self.label_dict[batch]) for label in celltype_sublist]).flatten()\n",
    "        X_sub = self._X[loc]\n",
    "        samples_sub = self.samples[loc]\n",
    "        labels_sub = self.labels[loc]\n",
    "        return X_sub, samples_sub, labels_sub"
   ]
  },
  {
   "cell_type": "code",
   "execution_count": 13,
   "metadata": {},
   "outputs": [],
   "source": [
    "def arrange_categories(original_categories, mapping_from=None, mapping_to=None):\n",
    "    unique_categories = np.unique(original_categories)\n",
    "    n_categories = len(unique_categories)\n",
    "    batch_dict = dict()\n",
    "    if mapping_to is None:\n",
    "        mapping_to = range(n_categories)\n",
    "    if mapping_from is None:\n",
    "        mapping_from = unique_categories\n",
    "    assert n_categories <= len(mapping_from)  # one cell_type can have no instance in dataset # Haven't debug it. Assume we have more than one cell type.\n",
    "    assert len(mapping_to) == len(mapping_from)\n",
    "\n",
    "    new_categories = np.copy(original_categories)\n",
    "    for idx_from, idx_to in zip(mapping_from, mapping_to):\n",
    "        # print(idx_from, idx_to)\n",
    "        new_categories[original_categories == idx_from] = idx_to\n",
    "        batch_dict[idx_from] = idx_to\n",
    "    return new_categories.astype(int), n_categories, batch_dict\n"
   ]
  },
  {
   "cell_type": "code",
   "execution_count": 6,
   "metadata": {},
   "outputs": [],
   "source": [
    "class Manual_Layers(nn.Module):\n",
    "    def __init__(self, n_in=10, n_hidden=100, n_out=2):\n",
    "        super(Manual_Layers, self).__init__()\n",
    "        self.layers = nn.Sequential(\n",
    "            nn.Linear(n_in, n_hidden),\n",
    "            nn.LeakyReLU(0.2),\n",
    "            nn.Linear(n_hidden, n_out*2),\n",
    "        )\n",
    "        \n",
    "        \n",
    "    def forward(self, x: torch.Tensor):\n",
    "        x = self.layers(x)\n",
    "        \n",
    "        return x"
   ]
  },
  {
   "cell_type": "code",
   "execution_count": 7,
   "metadata": {},
   "outputs": [],
   "source": [
    "class Encoder(nn.Module):\n",
    "    r\"\"\"Encodes data of ``n_input`` dimensions into a latent space of ``n_output``\n",
    "    dimensions using a fully-connected neural network of ``n_hidden`` layers.\n",
    "\n",
    "    :param n_input: The dimensionality of the input (data space)\n",
    "    :param n_output: The dimensionality of the output (latent space)\n",
    "    :param n_layers: The number of fully-connected hidden layers\n",
    "    :param n_hidden: The number of nodes per hidden layer\n",
    "    :dropout_rate: Dropout rate to apply to each of the hidden layers\n",
    "    \"\"\"\n",
    "\n",
    "    def __init__(self, n_input: int, n_output: int,\n",
    "                 n_layers: int = 1,\n",
    "                 n_hidden: int = 128, dropout_rate: float = 0.1):\n",
    "        super(Encoder, self).__init__()\n",
    "\n",
    "        #self.encoder = FCLayers(n_in=n_input, n_out=n_hidden, n_layers=n_layers,\n",
    "        #                        n_hidden=n_hidden, dropout_rate=dropout_rate)\n",
    "        #self.mean_encoder = nn.Linear(n_hidden, n_output)\n",
    "        #self.var_encoder = nn.Linear(n_hidden, n_output)\n",
    "            \n",
    "        self.encoder = Manual_Layers(n_in = n_input, n_hidden = n_hidden, n_out = n_output)\n",
    "       \n",
    "\n",
    "    def reparameterize(self, mu, var):\n",
    "        return Normal(mu, var.sqrt()).rsample()\n",
    "    \n",
    "    def encoder_function(self, x):\n",
    "        h = self.encoder(x)\n",
    "        q_m, q_logv = torch.chunk(h, 2, dim=1)\n",
    "        return q_m, q_logv\n",
    "\n",
    "    def forward(self, x: torch.Tensor):\n",
    "        r\"\"\"The forward computation for a single sample.\n",
    "\n",
    "         #. Encodes the data into latent space using the encoder network\n",
    "         #. Generates a mean \\\\( q_m \\\\) and variance \\\\( q_v \\\\) (clamped to \\\\( [-5, 5] \\\\))\n",
    "         #. Samples a new value from an i.i.d. multivariate normal \\\\( \\\\sim N(q_m, \\\\mathbf{I}q_v) \\\\)\n",
    "\n",
    "        :param x: tensor with shape (n_input,)\n",
    "        :return: tensors of shape ``(n_latent,)`` for mean and var, and sample\n",
    "        :rtype: 3-tuple of :py:class:`torch.Tensor`\n",
    "        \"\"\"\n",
    "\n",
    "        # Parameters for latent distribution\n",
    "        q_m, q_logv = self.encoder_function(x)\n",
    "        q_v = torch.exp(q_logv)\n",
    "        \n",
    "        #q = self.encoder(x)\n",
    "        #q_m = self.mean_encoder(q)\n",
    "        #q_v = torch.exp(self.var_encoder(q))  # (computational stability safeguard)torch.clamp(, -5, 5)\n",
    "        latent = self.reparameterize(q_m, q_v)\n",
    "        return q_m, q_v, latent"
   ]
  },
  {
   "cell_type": "code",
   "execution_count": 8,
   "metadata": {},
   "outputs": [],
   "source": [
    "class DecoderVCSC(nn.Module):\n",
    "    r\"\"\"Decodes data from latent space of ``n_input`` dimensions ``n_output``\n",
    "    dimensions using a fully-connected neural network of ``n_hidden`` layers.\n",
    "\n",
    "    :param n_input: The dimensionality of the input (latent space)\n",
    "    :param n_output: The dimensionality of the output (data space). It is also the number of genes\n",
    "    :param n_cat_list: A list containing the number of categories\n",
    "    :param n_layers: The number of fully-connected hidden layers\n",
    "    :param n_hidden: The number of nodes per hidden layer\n",
    "    \"\"\"\n",
    "\n",
    "    def __init__(self, n_input: int, n_output: int,\n",
    "                 n_layers: int = 1,\n",
    "                 n_hidden: int = 128):\n",
    "        super(DecoderVCSC, self).__init__()\n",
    "\n",
    "        # shape: shape parameter in gamma distribution infered from estimated covariance matrix\n",
    "        self.px_decoder =Manual_Layers(n_in = n_input, n_hidden = n_hidden, n_out = n_output)\n",
    "        \n",
    "        # mu\n",
    "        self.px_mu_decoder =  nn.Linear(n_hidden, n_output)\n",
    "\n",
    "#         # D\n",
    "#         self.px_D_decoder = nn.Sequential(nn.Linear(n_hidden, n_output))\n",
    "\n",
    "#         # L\n",
    "#         self.px_L_decoder = nn.Linear(n_hidden, int(n_output*(n_output-1)/2))\n",
    "\n",
    "#         # dropout\n",
    "#         #self.px_dropout_decoder = nn.Linear(n_hidden, n_output)\n",
    "\n",
    "\n",
    "\n",
    "\n",
    "    def forward(self, z: torch.Tensor):\n",
    "        r\"\"\"The forward computation for a single sample.\n",
    "\n",
    "         #. Decodes the data from the latent space using the decoder network\n",
    "         #. Returns parameters for the multiVariate normal distribution of expression\n",
    "\n",
    "        :param z: tensor with shape ``(n_input,)``\n",
    "        :param mu: empirical mean parameter in multivariate normal distribution with shape ``(#gene,)``\n",
    "        :param D: diagonal vector of D in cholesky decomposition, where \\Sigma = L^T * D * L, \n",
    "                    and \\Sigma is cov matrix in multivariate normal distribution with shape ``(#gene,)``\n",
    "        :param L: vector of unit lower triangular L matrix in cholesky decomposition with shape ``(#gene*(#gene-1)/2)``\n",
    "        :return: parameters for the multivariate normal distribution of expression\n",
    "        :rtype: `torch.Tensor`\n",
    "        \"\"\"\n",
    "\n",
    "        \n",
    "\n",
    "        # The decoder returns values for the parameters of the ZINB distribution\n",
    "        px = self.px_decoder(z)\n",
    "        px_mu = self.px_mu_decoder(px)\n",
    "#         px_D = self.px_D_decoder(px)\n",
    "#         px_D = torch.exp(px_D)\n",
    "#         px_L = self.px_L_decoder(px)\n",
    "        #print(px_L.size())\n",
    "        #px_L = self.ReshapeL(px_L)\n",
    "        #px_L = self.ReshapeL(px_L)\n",
    "        #px_dropout = self.px_dropout_decoder(px_sigma)\n",
    "        \n",
    "        \n",
    "#         return px_mu, px_D, px_L\n",
    "        return px_mu"
   ]
  },
  {
   "cell_type": "code",
   "execution_count": 42,
   "metadata": {},
   "outputs": [],
   "source": [
    "def log_gaussian_positive(x, px_mu):\n",
    "    \"\"\"\n",
    "    This log likelihood is replaced by L2 square error\n",
    "    \"\"\"\n",
    "\n",
    "    reconst_loss =  -((px_mu-x)**2).sum(dim=-1) \n",
    "\n",
    "    \n",
    "    #res = part1 + part2\n",
    "    return reconst_loss"
   ]
  },
  {
   "cell_type": "code",
   "execution_count": 81,
   "metadata": {},
   "outputs": [],
   "source": [
    "class VAE(nn.Module):\n",
    "    r\"\"\"Variational auto-encoder model.\n",
    "\n",
    "    :param n_input: Number of input genes\n",
    "    :param n_batch: Number of batches\n",
    "    :param n_labels: Number of labels\n",
    "    :param n_hidden: Number of nodes per hidden layer\n",
    "    :param n_latent: Dimensionality of the latent space\n",
    "    :param n_layers: Number of hidden layers used for encoder and decoder NNs\n",
    "    :param dropout_rate: Dropout rate for neural networks\n",
    "    \"\"\"\n",
    "\n",
    "    def __init__(self, n_input: int, n_labels: int = 18,\n",
    "                 n_hidden: int = 128, n_latent: int = 10, n_layers: int = 1,\n",
    "                 dropout_rate: float = 0.1):\n",
    "        super(VAE, self).__init__()\n",
    "        self.n_latent = n_latent\n",
    "        self.n_labels = n_labels\n",
    "\n",
    "        self.z_encoder = Encoder(n_input, n_latent, n_layers=n_layers, n_hidden=n_hidden,\n",
    "                                 dropout_rate=dropout_rate)\n",
    "        # decoder goes from n_latent-dimensional space to n_input-d data\n",
    "        self.decoder = nn.Linear(n_latent, n_input)\n",
    "        # self.decoder = DecoderVCSC(n_latent, n_input, n_layers=n_layers, n_hidden=n_hidden)\n",
    "\n",
    "    def get_latents(self, x, give_mean):\n",
    "        r\"\"\" returns the result of ``sample_from_posterior_z`` inside a list\n",
    "\n",
    "        :param x: tensor of values with shape ``(batch_size, n_input)``\n",
    "        :return: one element list of tensor\n",
    "        :rtype: list of :py:class:`torch.Tensor`\n",
    "        \"\"\"\n",
    "        return [self.sample_from_posterior_z(x, give_mean)]\n",
    "\n",
    "    def sample_from_posterior_z(self, x, give_mean=False):\n",
    "        r\"\"\" samples the tensor of latent values from the posterior\n",
    "        #doesn't really sample, returns the means of the posterior distribution\n",
    "\n",
    "        :param x: tensor of values with shape ``(batch_size, n_input)``\n",
    "        :param give_mean: is True when we want the mean of the posterior  distribution rather than sampling\n",
    "        :return: tensor of shape ``(batch_size, n_latent)``\n",
    "        :rtype: :py:class:`torch.Tensor`\n",
    "        \"\"\"\n",
    "        qz_m, qz_v, z = self.z_encoder(x)  \n",
    "        if give_mean:\n",
    "            z = qz_m\n",
    "        return z\n",
    "\n",
    "    def get_sample_mu(self, x):\n",
    "        r\"\"\"Returns the tensor of predicted frequencies of expression\n",
    "\n",
    "        :param x: tensor of values with shape ``(batch_size, n_input)``\n",
    "        :return: tensor of predicted frequencies of expression with shape ``(batch_size, n_input)``\n",
    "        \"\"\"\n",
    "        return self.inference(x)[0]\n",
    "\n",
    "    # def get_sample_D(self, x):\n",
    "    #     r\"\"\"Returns the tensor of means of the negative binomial distribution\n",
    "\n",
    "    #     :param x: tensor of values with shape ``(batch_size, n_input)``\n",
    "    #     :return: tensor of means of the negative binomial distribution with shape ``(batch_size, n_input)``\n",
    "    #     \"\"\"\n",
    "    #     return self.inference(x)[1]\n",
    "\n",
    "    # def get_sample_L(self, x):\n",
    "    #     r\"\"\"Returns the tensor of means of the negative binomial distribution\n",
    "\n",
    "    #     :param x: tensor of values with shape ``(batch_size, n_input)``\n",
    "    #     :return: tensor of means of the negative binomial distribution with shape ``(batch_size, n_input)``\n",
    "    #     \"\"\"\n",
    "    #     return self.inference(x)[2]\n",
    "\n",
    "    def _reconstruction_loss(self, x, px_mu):\n",
    "        # Reconstruction Loss\n",
    "        #reconst_loss = -log_gaussian_positive(x, px_mu, px_D, px_L)\n",
    "        #return reconst_loss\n",
    "        \n",
    "        recon_loss = log_gaussian_positive(x, px_mu)\n",
    "        return - recon_loss\n",
    "    \n",
    "\n",
    "    def inference(self, x):\n",
    "        x_ = x\n",
    "\n",
    "        # Sampling\n",
    "        qz_m, qz_v, z = self.z_encoder(x_)\n",
    "\n",
    "        # px_mu, px_D, px_L = self.decoder(z)\n",
    "        px_mu = self.decoder(z)\n",
    "        \n",
    "\n",
    "        return px_mu, qz_m, qz_v, z\n",
    "    \n",
    "    # def reconst_x(self, px_mu, px_D):\n",
    "    #     reconst_x = Normal(px_mu, 1/px_D).rsample()\n",
    "        \n",
    "\n",
    "    def forward(self, x):\n",
    "        r\"\"\" Returns the reconstruction loss and the Kullback divergences\n",
    "\n",
    "        :param x: tensor of values with shape (batch_size, n_input)\n",
    "        :return: the reconstruction loss and the Kullback divergences\n",
    "        \"\"\"\n",
    "        # Parameters for z latent distribution\n",
    "\n",
    "        px_mu, qz_m, qz_v, z = self.inference(x)\n",
    "        #reconst_loss = self._reconstruction_loss(x, px_mu, px_D, px_L)\n",
    "        reconst_loss = self._reconstruction_loss(x, px_mu)\n",
    "\n",
    "        # KL Divergence between two multivariate normal distributions\n",
    "        # mean = torch.zeros_like(qz_m)\n",
    "        # scale = torch.ones_like(qz_v)\n",
    "\n",
    "        # kl_divergence = torch.distributions.kl.kl_divergence(Normal(qz_m, torch.sqrt(qz_v)), Normal(mean, scale)).sum(dim=-1)\n",
    "        kl_divergence = - 0.5 * torch.sum(1 + torch.log(qz_v) - qz_m**2 - qz_v)\n",
    "        \n",
    "        return reconst_loss, kl_divergence"
   ]
  },
  {
   "cell_type": "code",
   "execution_count": 11,
   "metadata": {},
   "outputs": [],
   "source": [
    "# Generate Simulation dataset in 10 dimensional space and 2 cell types. There are 1500 cells in each cell type population. No multi-sample problem included.\n",
    "sim1 = Generate_X(10)\n",
    "sim1.generate(2,[1500,1500], same_mean = False, same_sigma = False)\n",
    "sample_size = np.repeat(3000,1)\n",
    "sample_indices = sim_sample_indices(sample_size)"
   ]
  },
  {
   "cell_type": "code",
   "execution_count": 14,
   "metadata": {},
   "outputs": [],
   "source": [
    "# Generate CytofDataset_Sim class\n",
    "simX_data = CytofDataset_Sim(sim1.X, sample_indices, sim1.ct_label)\n",
    "simX, _, labels = simX_data.get_sample([0]) ## Used for simulation without multiple batches integration\n",
    "gene_dataset = simX_data"
   ]
  },
  {
   "cell_type": "code",
   "execution_count": 15,
   "metadata": {},
   "outputs": [],
   "source": [
    "# Parameters Setup\n",
    "p = 10 # dimension of X\n",
    "d = 2 # dimension of z\n",
    "n_input = p\n",
    "n_latent = d\n",
    "n_layers = 3\n",
    "n_hidden = 20 # dimension of hidden layer\n",
    "dropout_rate = 0.1\n",
    "n_epochs = 150\n",
    "lr=1e-3\n",
    "batch_size = 1500"
   ]
  },
  {
   "cell_type": "code",
   "execution_count": 17,
   "metadata": {},
   "outputs": [],
   "source": [
    "np.savetxt('./write/simulation', sim1.X, delimiter = ',')\n",
    "adata = sc.read_csv('./write/simulation')\n",
    "adata.obs['cell type'] = sim1.ct_label\n",
    "adata.obs['batch'] = sample_indices"
   ]
  },
  {
   "cell_type": "code",
   "execution_count": 18,
   "metadata": {},
   "outputs": [],
   "source": [
    "sc.pp.neighbors(adata, n_neighbors = 15, metric = 'euclidean', random_state = None)\n",
    "sc.tl.umap(adata, min_dist = 0.1)\n"
   ]
  },
  {
   "cell_type": "code",
   "execution_count": 19,
   "metadata": {},
   "outputs": [
    {
     "data": {
      "image/png": "[encoded data removed]",
      "text/plain": [
       "<Figure size 432x288 with 2 Axes>"
      ]
     },
     "metadata": {
      "needs_background": "light"
     },
     "output_type": "display_data"
    }
   ],
   "source": [
    "sc.pl.umap(adata, color = 'cell type')"
   ]
  },
  {
   "cell_type": "code",
   "execution_count": 104,
   "metadata": {},
   "outputs": [],
   "source": [
    "vae = VAE(gene_dataset.nb_genes, gene_dataset.n_labels,\n",
    "                 n_hidden = n_hidden, n_latent = n_latent, n_layers = n_layers)"
   ]
  },
  {
   "cell_type": "code",
   "execution_count": 105,
   "metadata": {},
   "outputs": [],
   "source": [
    "mu_init = vae.get_sample_mu(torch.from_numpy(gene_dataset.X))"
   ]
  },
  {
   "cell_type": "code",
   "execution_count": 106,
   "metadata": {},
   "outputs": [],
   "source": [
    "epochs = 100\n",
    "data_loader =  torch.utils.data.DataLoader(gene_dataset, batch_size = 100, shuffle =True)"
   ]
  },
  {
   "cell_type": "code",
   "execution_count": 107,
   "metadata": {},
   "outputs": [],
   "source": [
    "optimizer = torch.optim.Adam(vae.parameters(), lr=1e-3)"
   ]
  },
  {
   "cell_type": "code",
   "execution_count": 108,
   "metadata": {},
   "outputs": [
    {
     "name": "stdout",
     "output_type": "stream",
     "text": [
      "Epoch[1/100] Loss: 0.075\n",
      "Epoch[2/100] Loss: 0.072\n",
      "Epoch[3/100] Loss: 0.065\n",
      "Epoch[4/100] Loss: 0.063\n",
      "Epoch[5/100] Loss: 0.063\n",
      "Epoch[6/100] Loss: 0.063\n",
      "Epoch[7/100] Loss: 0.056\n",
      "Epoch[8/100] Loss: 0.052\n",
      "Epoch[9/100] Loss: 0.050\n",
      "Epoch[10/100] Loss: 0.048\n",
      "Epoch[11/100] Loss: 0.047\n",
      "Epoch[12/100] Loss: 0.047\n",
      "Epoch[13/100] Loss: 0.045\n",
      "Epoch[14/100] Loss: 0.046\n",
      "Epoch[15/100] Loss: 0.042\n",
      "Epoch[16/100] Loss: 0.044\n",
      "Epoch[17/100] Loss: 0.039\n",
      "Epoch[18/100] Loss: 0.043\n",
      "Epoch[19/100] Loss: 0.041\n",
      "Epoch[20/100] Loss: 0.041\n",
      "Epoch[21/100] Loss: 0.040\n",
      "Epoch[22/100] Loss: 0.039\n",
      "Epoch[23/100] Loss: 0.040\n",
      "Epoch[24/100] Loss: 0.038\n",
      "Epoch[25/100] Loss: 0.040\n",
      "Epoch[26/100] Loss: 0.044\n",
      "Epoch[27/100] Loss: 0.039\n",
      "Epoch[28/100] Loss: 0.039\n",
      "Epoch[29/100] Loss: 0.040\n",
      "Epoch[30/100] Loss: 0.040\n",
      "Epoch[31/100] Loss: 0.038\n",
      "Epoch[32/100] Loss: 0.040\n",
      "Epoch[33/100] Loss: 0.042\n",
      "Epoch[34/100] Loss: 0.038\n",
      "Epoch[35/100] Loss: 0.040\n",
      "Epoch[36/100] Loss: 0.039\n",
      "Epoch[37/100] Loss: 0.040\n",
      "Epoch[38/100] Loss: 0.037\n",
      "Epoch[39/100] Loss: 0.039\n",
      "Epoch[40/100] Loss: 0.039\n",
      "Epoch[41/100] Loss: 0.037\n",
      "Epoch[42/100] Loss: 0.040\n",
      "Epoch[43/100] Loss: 0.036\n",
      "Epoch[44/100] Loss: 0.035\n",
      "Epoch[45/100] Loss: 0.035\n",
      "Epoch[46/100] Loss: 0.035\n",
      "Epoch[47/100] Loss: 0.035\n",
      "Epoch[48/100] Loss: 0.033\n",
      "Epoch[49/100] Loss: 0.036\n",
      "Epoch[50/100] Loss: 0.034\n",
      "Epoch[51/100] Loss: 0.036\n",
      "Epoch[52/100] Loss: 0.035\n",
      "Epoch[53/100] Loss: 0.036\n",
      "Epoch[54/100] Loss: 0.037\n",
      "Epoch[55/100] Loss: 0.034\n",
      "Epoch[56/100] Loss: 0.033\n",
      "Epoch[57/100] Loss: 0.033\n",
      "Epoch[58/100] Loss: 0.033\n",
      "Epoch[59/100] Loss: 0.034\n",
      "Epoch[60/100] Loss: 0.033\n",
      "Epoch[61/100] Loss: 0.034\n",
      "Epoch[62/100] Loss: 0.032\n",
      "Epoch[63/100] Loss: 0.032\n",
      "Epoch[64/100] Loss: 0.032\n",
      "Epoch[65/100] Loss: 0.034\n",
      "Epoch[66/100] Loss: 0.034\n",
      "Epoch[67/100] Loss: 0.032\n",
      "Epoch[68/100] Loss: 0.034\n",
      "Epoch[69/100] Loss: 0.033\n",
      "Epoch[70/100] Loss: 0.036\n",
      "Epoch[71/100] Loss: 0.033\n",
      "Epoch[72/100] Loss: 0.031\n",
      "Epoch[73/100] Loss: 0.032\n",
      "Epoch[74/100] Loss: 0.029\n",
      "Epoch[75/100] Loss: 0.031\n",
      "Epoch[76/100] Loss: 0.034\n",
      "Epoch[77/100] Loss: 0.031\n",
      "Epoch[78/100] Loss: 0.030\n",
      "Epoch[79/100] Loss: 0.030\n",
      "Epoch[80/100] Loss: 0.031\n",
      "Epoch[81/100] Loss: 0.031\n",
      "Epoch[82/100] Loss: 0.032\n",
      "Epoch[83/100] Loss: 0.029\n",
      "Epoch[84/100] Loss: 0.032\n",
      "Epoch[85/100] Loss: 0.031\n",
      "Epoch[86/100] Loss: 0.029\n",
      "Epoch[87/100] Loss: 0.030\n",
      "Epoch[88/100] Loss: 0.031\n",
      "Epoch[89/100] Loss: 0.031\n",
      "Epoch[90/100] Loss: 0.029\n",
      "Epoch[91/100] Loss: 0.028\n",
      "Epoch[92/100] Loss: 0.031\n",
      "Epoch[93/100] Loss: 0.031\n",
      "Epoch[94/100] Loss: 0.031\n",
      "Epoch[95/100] Loss: 0.030\n",
      "Epoch[96/100] Loss: 0.031\n",
      "Epoch[97/100] Loss: 0.028\n",
      "Epoch[98/100] Loss: 0.028\n",
      "Epoch[99/100] Loss: 0.029\n",
      "Epoch[100/100] Loss: 0.029\n"
     ]
    }
   ],
   "source": [
    "for epoch in range(epochs):\n",
    "    KL_weight = min(0.1, epoch/400)\n",
    "    for tensors_list in data_loader:\n",
    "        X, sample_list, label_list = tensors_list\n",
    "        recon_loss, KL = vae(X)\n",
    "        loss = torch.mean(recon_loss + KL_weight* KL)\n",
    "\n",
    "        optimizer.zero_grad()\n",
    "        loss.backward()\n",
    "        optimizer.step()\n",
    "        \n",
    "    print(\"Epoch[{}/{}] Loss: {:.3f}\".format(epoch+1, epochs, loss.data/batch_size))"
   ]
  },
  {
   "cell_type": "code",
   "execution_count": 109,
   "metadata": {},
   "outputs": [],
   "source": [
    "mu_out = vae.get_sample_mu(torch.from_numpy(gene_dataset.X))"
   ]
  },
  {
   "cell_type": "code",
   "execution_count": 110,
   "metadata": {},
   "outputs": [],
   "source": [
    "x = gene_dataset.X\n",
    "x = torch.from_numpy(x).float()\n",
    "z = vae.get_latents(x, give_mean=True)\n",
    "z = z[0].detach().numpy()"
   ]
  },
  {
   "cell_type": "code",
   "execution_count": 111,
   "metadata": {},
   "outputs": [
    {
     "data": {
      "text/plain": [
       "<matplotlib.collections.PathCollection at 0x2af11df44c18>"
      ]
     },
     "execution_count": 111,
     "metadata": {},
     "output_type": "execute_result"
    },
    {
     "data": {
      "image/png": "[encoded data removed]",
      "text/plain": [
       "<Figure size 432x288 with 1 Axes>"
      ]
     },
     "metadata": {
      "needs_background": "light"
     },
     "output_type": "display_data"
    }
   ],
   "source": [
    "plt.scatter(z[:,0], z[:,1], c = gene_dataset.labels, s = [1]*len(z), marker='o')"
   ]
  },
  {
   "cell_type": "code",
   "execution_count": 124,
   "metadata": {},
   "outputs": [
    {
     "data": {
      "text/plain": [
       "([array([  3.,  27., 178., 568., 544., 166.,  13.,   1.,   0.,   0.]),\n",
       "  array([  0.,   0.,   5.,  46., 308., 600., 424., 105.,  11.,   1.]),\n",
       "  array([  7.,  40., 193., 333., 410., 340., 137.,  33.,   7.,   0.]),\n",
       "  array([  0.,   0.,   1.,  22., 145., 393., 517., 342.,  71.,   9.])],\n",
       " array([-1.8428144 , -0.853525  ,  0.13576451,  1.125054  ,  2.1143434 ,\n",
       "         3.103633  ,  4.092922  ,  5.082212  ,  6.0715013 ,  7.060791  ,\n",
       "         8.05008   ], dtype=float32),\n",
       " <a list of 4 Lists of Patches objects>)"
      ]
     },
     "execution_count": 124,
     "metadata": {},
     "output_type": "execute_result"
    },
    {
     "data": {
      "image/png": "[encoded data removed]",
      "text/plain": [
       "<Figure size 432x288 with 1 Axes>"
      ]
     },
     "metadata": {
      "needs_background": "light"
     },
     "output_type": "display_data"
    }
   ],
   "source": [
    "# Comparing true mean and estimated means\n",
    "i= 7\n",
    "plt.hist([mu_out[0:1500,i].detach().numpy(),mu_out[1500:3000,i].detach().numpy(), gene_dataset.X[0:1500,i], gene_dataset.X[1500:3000,i]], label = [\"ct_1_out\",\"ct_2_out\", \"ct_1\", \"ct_2\"])\n"
   ]
  },
  {
   "cell_type": "code",
   "execution_count": 59,
   "metadata": {},
   "outputs": [
    {
     "data": {
      "text/plain": [
       "tensor([[-4.1520, -0.3836,  0.3578,  ...,  3.5136,  1.3413, -3.4974],\n",
       "        [-3.9964, -0.3718,  0.3312,  ...,  3.4554,  1.2794, -3.4222],\n",
       "        [-4.0183, -0.3721,  0.3074,  ...,  3.4765,  1.3369, -3.4283],\n",
       "        ...,\n",
       "        [-4.0992, -0.3481,  0.3595,  ...,  3.4876,  1.3897, -3.4629],\n",
       "        [-4.1139, -0.3899,  0.3628,  ...,  3.4985,  1.2865, -3.4819],\n",
       "        [-4.0081, -0.3699,  0.3128,  ...,  3.4806,  1.3117, -3.4390]],\n",
       "       grad_fn=<AddmmBackward>)"
      ]
     },
     "execution_count": 59,
     "metadata": {},
     "output_type": "execute_result"
    }
   ],
   "source": [
    "mu_out"
   ]
  },
  {
   "cell_type": "code",
   "execution_count": null,
   "metadata": {},
   "outputs": [],
   "source": []
  }
 ],
 "metadata": {
  "kernelspec": {
   "display_name": "Python 3",
   "language": "python",
   "name": "python3"
  },
  "language_info": {
   "codemirror_mode": {
    "name": "ipython",
    "version": 3
   },
   "file_extension": ".py",
   "mimetype": "text/x-python",
   "name": "python",
   "nbconvert_exporter": "python",
   "pygments_lexer": "ipython3",
   "version": "3.5.4"
  }
 },
 "nbformat": 4,
 "nbformat_minor": 2
}
